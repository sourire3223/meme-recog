{
 "cells": [
  {
   "cell_type": "code",
   "execution_count": 9,
   "metadata": {
    "ExecuteTime": {
     "end_time": "2019-05-26T07:43:45.360600Z",
     "start_time": "2019-05-26T07:43:45.353616Z"
    }
   },
   "outputs": [],
   "source": [
    "import numpy as np\n",
    "import pandas as pd\n",
    "from keras.preprocessing import image\n",
    "from PIL import Image\n",
    "import requests\n",
    "from io import BytesIO"
   ]
  },
  {
   "cell_type": "code",
   "execution_count": 24,
   "metadata": {
    "ExecuteTime": {
     "end_time": "2019-05-26T12:24:06.745420Z",
     "start_time": "2019-05-26T12:24:06.715492Z"
    }
   },
   "outputs": [],
   "source": [
    "df = pd.read_csv('memegenerator_arrange.csv', delimiter=',')\n",
    "df[\"is_meme\"] = 1\n",
    "df_pre = df[[\"Meme ID\", \"Archived URL\", \"is_meme\"]]"
   ]
  },
  {
   "cell_type": "code",
   "execution_count": 13,
   "metadata": {
    "ExecuteTime": {
     "end_time": "2019-05-26T07:45:54.749798Z",
     "start_time": "2019-05-26T07:45:52.879480Z"
    }
   },
   "outputs": [
    {
     "data": {
      "text/plain": [
       "<_io.BytesIO at 0x24493a6efc0>"
      ]
     },
     "execution_count": 13,
     "metadata": {},
     "output_type": "execute_result"
    }
   ],
   "source": [
    "#BytesIO(requests.get(df[\"Archived URL\"][1]).content)"
   ]
  },
  {
   "cell_type": "code",
   "execution_count": 14,
   "metadata": {
    "ExecuteTime": {
     "end_time": "2019-05-26T07:46:05.327528Z",
     "start_time": "2019-05-26T07:46:03.358273Z"
    }
   },
   "outputs": [],
   "source": [
    "#img = image.load_img(BytesIO(requests.get(df[\"Archived URL\"][i]).content))"
   ]
  },
  {
   "cell_type": "code",
   "execution_count": 25,
   "metadata": {
    "ExecuteTime": {
     "end_time": "2019-05-26T12:24:25.660284Z",
     "start_time": "2019-05-26T12:24:11.603741Z"
    }
   },
   "outputs": [
    {
     "name": "stdout",
     "output_type": "stream",
     "text": [
      "loading no.0 image.\n",
      "loading no.1 image.\n",
      "loading no.2 image.\n",
      "loading no.3 image.\n",
      "loading no.4 image.\n",
      "loading no.5 image.\n",
      "loading no.6 image.\n",
      "loading no.7 image.\n",
      "loading no.8 image.\n"
     ]
    },
    {
     "ename": "ValueError",
     "evalue": "all the input array dimensions except for the concatenation axis must match exactly",
     "output_type": "error",
     "traceback": [
      "\u001b[1;31m---------------------------\u001b[0m",
      "\u001b[1;31mValueError\u001b[0mTraceback (most recent call last)",
      "\u001b[1;32m<ipython-input-25-e5bd4f2c3d01>\u001b[0m in \u001b[0;36m<module>\u001b[1;34m\u001b[0m\n\u001b[0;32m      7\u001b[0m     \u001b[0mimgs\u001b[0m\u001b[1;33m.\u001b[0m\u001b[0mappend\u001b[0m\u001b[1;33m(\u001b[0m\u001b[0marr_img\u001b[0m\u001b[1;33m)\u001b[0m \u001b[1;31m# 把圖片數組加到一個列表裡面\u001b[0m\u001b[1;33m\u001b[0m\u001b[1;33m\u001b[0m\u001b[0m\n\u001b[0;32m      8\u001b[0m     \u001b[0mprint\u001b[0m\u001b[1;33m(\u001b[0m\u001b[1;34m\"loading no.%s image.\"\u001b[0m\u001b[1;33m%\u001b[0m\u001b[0mi\u001b[0m\u001b[1;33m)\u001b[0m\u001b[1;33m\u001b[0m\u001b[1;33m\u001b[0m\u001b[0m\n\u001b[1;32m----> 9\u001b[1;33m \u001b[0mx\u001b[0m \u001b[1;33m=\u001b[0m \u001b[0mnp\u001b[0m\u001b[1;33m.\u001b[0m\u001b[0mconcatenate\u001b[0m\u001b[1;33m(\u001b[0m\u001b[1;33m[\u001b[0m\u001b[0mx\u001b[0m \u001b[1;32mfor\u001b[0m \u001b[0mx\u001b[0m \u001b[1;32min\u001b[0m \u001b[0mimgs\u001b[0m\u001b[1;33m]\u001b[0m\u001b[1;33m)\u001b[0m \u001b[1;31m# 把所有圖片數組concatenate在一起\u001b[0m\u001b[1;33m\u001b[0m\u001b[1;33m\u001b[0m\u001b[0m\n\u001b[0m",
      "\u001b[1;31mValueError\u001b[0m: all the input array dimensions except for the concatenation axis must match exactly"
     ]
    }
   ],
   "source": [
    "imgs = []\n",
    "#for i in range(len(df[\"Archived URL\"])):  # f_names為所有圖片地址，list\n",
    "for i in range(0,9):\n",
    "    img = image.load_img(BytesIO(requests.get(df[\"Archived URL\"][i]).content))  # 讀取圖片\n",
    "    arr_img = image.img_to_array(img)  # 圖片轉換為數組\n",
    "    arr_img = np.expand_dims(arr_img, axis=0)   # 增加第一個batch維度\n",
    "    imgs.append(arr_img) # 把圖片數組加到一個列表裡面\n",
    "    print(\"loading no.%s image.\"%i)\n",
    "x = np.concatenate([x for x in imgs]) # 把所有圖片數組concatenate在一起"
   ]
  },
  {
   "cell_type": "code",
   "execution_count": 27,
   "metadata": {
    "ExecuteTime": {
     "end_time": "2019-05-26T12:26:30.551514Z",
     "start_time": "2019-05-26T12:26:30.541541Z"
    }
   },
   "outputs": [
    {
     "data": {
      "text/plain": [
       "array([[[[39., 26., 18.],\n",
       "         [39., 26., 18.],\n",
       "         [40., 27., 19.],\n",
       "         ...,\n",
       "         [46., 36., 27.],\n",
       "         [46., 36., 27.],\n",
       "         [47., 37., 28.]],\n",
       "\n",
       "        [[39., 26., 18.],\n",
       "         [39., 26., 18.],\n",
       "         [39., 26., 18.],\n",
       "         ...,\n",
       "         [46., 36., 27.],\n",
       "         [47., 37., 28.],\n",
       "         [47., 37., 28.]],\n",
       "\n",
       "        [[40., 27., 19.],\n",
       "         [40., 27., 21.],\n",
       "         [40., 27., 21.],\n",
       "         ...,\n",
       "         [46., 36., 26.],\n",
       "         [47., 37., 28.],\n",
       "         [47., 36., 30.]],\n",
       "\n",
       "        ...,\n",
       "\n",
       "        [[71., 53., 29.],\n",
       "         [71., 53., 29.],\n",
       "         [71., 53., 29.],\n",
       "         ...,\n",
       "         [89., 67., 44.],\n",
       "         [90., 68., 44.],\n",
       "         [93., 69., 43.]],\n",
       "\n",
       "        [[71., 53., 29.],\n",
       "         [71., 53., 29.],\n",
       "         [71., 53., 29.],\n",
       "         ...,\n",
       "         [89., 67., 43.],\n",
       "         [90., 68., 44.],\n",
       "         [91., 70., 43.]],\n",
       "\n",
       "        [[72., 54., 30.],\n",
       "         [72., 54., 30.],\n",
       "         [72., 54., 30.],\n",
       "         ...,\n",
       "         [89., 67., 43.],\n",
       "         [90., 68., 44.],\n",
       "         [89., 69., 44.]]]], dtype=float32)"
      ]
     },
     "execution_count": 27,
     "metadata": {},
     "output_type": "execute_result"
    }
   ],
   "source": [
    "imgs[0]"
   ]
  },
  {
   "cell_type": "code",
   "execution_count": 23,
   "metadata": {
    "ExecuteTime": {
     "end_time": "2019-05-26T12:20:18.455493Z",
     "start_time": "2019-05-26T12:20:18.449510Z"
    }
   },
   "outputs": [
    {
     "data": {
      "text/plain": [
       "'http://webarchive.loc.gov/all/20160410182724/http://cdn.meme.am/instances/20612245.jpg'"
      ]
     },
     "execution_count": 23,
     "metadata": {},
     "output_type": "execute_result"
    }
   ],
   "source": [
    "df[\"Archived URL\"][i]"
   ]
  },
  {
   "cell_type": "code",
   "execution_count": null,
   "metadata": {},
   "outputs": [],
   "source": []
  }
 ],
 "metadata": {
  "hide_input": false,
  "kernelspec": {
   "display_name": "Python 3",
   "language": "python",
   "name": "python3"
  },
  "language_info": {
   "codemirror_mode": {
    "name": "ipython",
    "version": 3
   },
   "file_extension": ".py",
   "mimetype": "text/x-python",
   "name": "python",
   "nbconvert_exporter": "python",
   "pygments_lexer": "ipython3",
   "version": "3.6.8"
  },
  "varInspector": {
   "cols": {
    "lenName": 16,
    "lenType": 16,
    "lenVar": 40
   },
   "kernels_config": {
    "python": {
     "delete_cmd_postfix": "",
     "delete_cmd_prefix": "del ",
     "library": "var_list.py",
     "varRefreshCmd": "print(var_dic_list())"
    },
    "r": {
     "delete_cmd_postfix": ") ",
     "delete_cmd_prefix": "rm(",
     "library": "var_list.r",
     "varRefreshCmd": "cat(var_dic_list()) "
    }
   },
   "position": {
    "height": "605.646px",
    "left": "2190px",
    "right": "20px",
    "top": "120px",
    "width": "350px"
   },
   "types_to_exclude": [
    "module",
    "function",
    "builtin_function_or_method",
    "instance",
    "_Feature"
   ],
   "window_display": true
  }
 },
 "nbformat": 4,
 "nbformat_minor": 2
}
