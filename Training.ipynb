{
 "cells": [
  {
   "cell_type": "markdown",
   "metadata": {},
   "source": [
    "# Import Packages"
   ]
  },
  {
   "cell_type": "code",
   "execution_count": 1,
   "metadata": {},
   "outputs": [
    {
     "name": "stdout",
     "output_type": "stream",
     "text": [
      "env: KERAS_BACKEND=tensorflow\n"
     ]
    },
    {
     "name": "stderr",
     "output_type": "stream",
     "text": [
      "Using TensorFlow backend.\n"
     ]
    }
   ],
   "source": [
    "%matplotlib inline\n",
    "%env KERAS_BACKEND=tensorflow\n",
    "import numpy as np\n",
    "from keras.models import Sequential\n",
    "from keras.layers import Conv2D, Activation, MaxPooling2D, Dense\n",
    "from keras.datasets import cifar100\n",
    "from keras.utils import np_utils\n",
    "from keras.preprocessing import image\n",
    "from spp.SpatialPyramidPooling import SpatialPyramidPooling    # 需引入相關檔案 https://github.com/yhenon/keras-spp\n",
    "import matplotlib.pyplot as plt\n",
    "import numpy as np\n",
    "import pandas as pd\n",
    "import requests\n",
    "import os \n",
    "from PIL import Image\n",
    "from io import BytesIO"
   ]
  },
  {
   "cell_type": "markdown",
   "metadata": {},
   "source": [
    "# 引入CIFAR約10000張圖片作為非meme的圖片"
   ]
  },
  {
   "cell_type": "code",
   "execution_count": 3,
   "metadata": {},
   "outputs": [],
   "source": [
    "(CIFAR_train,  _), _ = cifar100.load_data(label_mode='fine')    # 引入CIFAR，實際上只需要圖片的部分\n",
    "# 需要將圖檔放大為128*128以利訓練\n",
    "imgs = []\n",
    "sele_img = CIFAR_train[:8000]    # 只需要八千筆就好\n",
    "for k in range(8000):\n",
    "    pre_img = sele_img[k]/255\n",
    "    span_img = np.zeros((128,128, 3))\n",
    "    for u in range(32):\n",
    "        for v in range(32):\n",
    "            for i in range(4):\n",
    "                for j in range(4):\n",
    "                    span_img[4*u+i][4*v+j] = pre_img[u, v, :3]    # 將圖片放大成128*128\n",
    "#     span_img = np.expand_dims(span_img, axis=0)    # 增加第一個batch維度\n",
    "    imgs.append(span_img)    # 把圖片數組加到一個列表裡面\n",
    "    imgs1 = imgs\n",
    "del sele_img"
   ]
  },
  {
   "cell_type": "markdown",
   "metadata": {},
   "source": [
    "# 從硬碟讀入meme與cifar100打散，並做成gnerator"
   ]
  },
  {
   "cell_type": "code",
   "execution_count": 7,
   "metadata": {},
   "outputs": [],
   "source": [
    "import numpy as np\n",
    "import imageio\n",
    "TOTAL_IMG_NUM = 8000 + 8000\n",
    "BATCH_SIZE = 256\n",
    "def _generator(batch_size = BATCH_SIZE):# 用來fit_generator\n",
    "    while True:\n",
    "        rd = np.random.permutation(TOTAL_IMG_NUM)\n",
    "        for i in range(TOTAL_IMG_NUM // batch_size):\n",
    "            imgs = []\n",
    "            result = []\n",
    "            for j in rd[i*batch_size:(i+1)*batch_size]:\n",
    "                if j >= 8000:\n",
    "                    imgs.append(imgs1[j - 8000])\n",
    "                    result.append(0)\n",
    "                else:\n",
    "                    imgs.append(imageio.imread(\"./img/meme\" + str(j) + \".png\")) # (路徑改成自己的)\n",
    "                    result.append(1)\n",
    "            yield np.array(imgs), np.ones((batch_size))\n",
    "        imgs = []\n",
    "        result = []\n",
    "        for j in rd[(i+1)*batch_size:]:\n",
    "            if j >= 8000:\n",
    "                imgs.append(imgs1[j - 8000])\n",
    "                result.append(0)\n",
    "            else:\n",
    "                imgs.append(imageio.imread(\"./img/meme\" + str(j) + \".png\")) # (路徑改成自己的)\n",
    "                result.append(1)\n",
    "        yield np.array(imgs), np.array(result)"
   ]
  },
  {
   "cell_type": "markdown",
   "metadata": {},
   "source": [
    "# 資料處理完畢，開始架設神經網路"
   ]
  },
  {
   "cell_type": "code",
   "execution_count": 5,
   "metadata": {},
   "outputs": [
    {
     "name": "stdout",
     "output_type": "stream",
     "text": [
      "WARNING:tensorflow:From D:\\programming\\Anaconda\\lib\\site-packages\\tensorflow\\python\\framework\\op_def_library.py:263: colocate_with (from tensorflow.python.framework.ops) is deprecated and will be removed in a future version.\n",
      "Instructions for updating:\n",
      "Colocations handled automatically by placer.\n",
      "_________________________________________________________________\n",
      "Layer (type)                 Output Shape              Param #   \n",
      "=================================================================\n",
      "conv2d_1 (Conv2D)            (None, None, None, 2)     488       \n",
      "_________________________________________________________________\n",
      "activation_1 (Activation)    (None, None, None, 2)     0         \n",
      "_________________________________________________________________\n",
      "max_pooling2d_1 (MaxPooling2 (None, None, None, 2)     0         \n",
      "_________________________________________________________________\n",
      "conv2d_2 (Conv2D)            (None, None, None, 4)     516       \n",
      "_________________________________________________________________\n",
      "activation_2 (Activation)    (None, None, None, 4)     0         \n",
      "_________________________________________________________________\n",
      "max_pooling2d_2 (MaxPooling2 (None, None, None, 4)     0         \n",
      "_________________________________________________________________\n",
      "conv2d_3 (Conv2D)            (None, None, None, 8)     1576      \n",
      "_________________________________________________________________\n",
      "activation_3 (Activation)    (None, None, None, 8)     0         \n",
      "_________________________________________________________________\n",
      "conv2d_4 (Conv2D)            (None, None, None, 16)    4624      \n",
      "_________________________________________________________________\n",
      "activation_4 (Activation)    (None, None, None, 16)    0         \n",
      "_________________________________________________________________\n",
      "max_pooling2d_3 (MaxPooling2 (None, None, None, 16)    0         \n",
      "_________________________________________________________________\n",
      "conv2d_5 (Conv2D)            (None, None, None, 32)    12832     \n",
      "_________________________________________________________________\n",
      "activation_5 (Activation)    (None, None, None, 32)    0         \n",
      "_________________________________________________________________\n",
      "spatial_pyramid_pooling_1 (S (None, 672)               0         \n",
      "_________________________________________________________________\n",
      "dense_1 (Dense)              (None, 1)                 673       \n",
      "_________________________________________________________________\n",
      "activation_6 (Activation)    (None, 1)                 0         \n",
      "=================================================================\n",
      "Total params: 20,709\n",
      "Trainable params: 20,709\n",
      "Non-trainable params: 0\n",
      "_________________________________________________________________\n"
     ]
    }
   ],
   "source": [
    "num_channels = 3\n",
    "num_classes = 2\n",
    "\n",
    "model = Sequential()\n",
    "model.add(Conv2D(2, (9,9), padding='same', input_shape=(None, None, 3)))   #圖片大小不固定所以用NONE\n",
    "model.add(Activation('relu'))\n",
    "model.add(MaxPooling2D(pool_size=(2, 2)))   #第一層\n",
    "model.add(Conv2D(4, (8,8), padding='same'))\n",
    "model.add(Activation('relu'))\n",
    "model.add(MaxPooling2D(pool_size=(2, 2)))   #第二層\n",
    "model.add(Conv2D(8, (7,7), padding='same'))\n",
    "model.add(Activation('relu'))\n",
    "#model.add(MaxPooling2D(pool_size=(2, 2)))   #第三層(怕最後矩陣變太小這裡先不做pooling)\n",
    "model.add(Conv2D(16, (6,6), padding='same'))\n",
    "model.add(Activation('relu'))\n",
    "model.add(MaxPooling2D(pool_size=(2, 2)))   #第四層\n",
    "model.add(Conv2D(32, (5,5), padding='same'))\n",
    "model.add(Activation('relu'))\n",
    "#這裡運用SPP讓結果的大小是固定的\n",
    "model.add(SpatialPyramidPooling([1, 2, 4])) #會輸出(1+4+16)=21的大小\n",
    "model.add(Dense(1))   #搭配上行是一個21*1的FC layer\n",
    "model.add(Activation('sigmoid'))\n",
    "\n",
    "model.summary()"
   ]
  },
  {
   "cell_type": "code",
   "execution_count": null,
   "metadata": {},
   "outputs": [
    {
     "name": "stdout",
     "output_type": "stream",
     "text": [
      "Epoch 1/10\n",
      "70/70 [==============================] - 392s 6s/step - loss: 0.1060 - acc: 0.9934\n",
      "Epoch 2/10\n",
      "70/70 [==============================] - 391s 6s/step - loss: 0.0870 - acc: 0.9945\n",
      "Epoch 3/10\n",
      "70/70 [==============================] - 475s 7s/step - loss: 0.1223 - acc: 0.9923\n",
      "Epoch 4/10\n",
      "70/70 [==============================] - 556s 8s/step - loss: 0.0897 - acc: 0.9944\n",
      "Epoch 5/10\n",
      "70/70 [==============================] - 455s 6s/step - loss: 0.1033 - acc: 0.9935\n",
      "Epoch 6/10\n",
      "61/70 [=========================>....] - ETA: 52s - loss: 1.1921e-07 - acc: 1.0000"
     ]
    }
   ],
   "source": [
    "model.compile(loss='binary_crossentropy', optimizer='adam', metrics=['accuracy'])    #learning rate不敢亂動QQ\n",
    "\n",
    "model.fit_generator(_generator(), steps_per_epoch = TOTAL_IMG_NUM // BATCH_SIZE + 1, epochs=10)"
   ]
  },
  {
   "cell_type": "markdown",
   "metadata": {},
   "source": [
    "# 把model存起來"
   ]
  },
  {
   "cell_type": "code",
   "execution_count": null,
   "metadata": {},
   "outputs": [],
   "source": [
    "model.save('finalprojectmodel.h5')"
   ]
  },
  {
   "cell_type": "markdown",
   "metadata": {},
   "source": [
    "# 測試一下train好的model"
   ]
  },
  {
   "cell_type": "code",
   "execution_count": null,
   "metadata": {},
   "outputs": [],
   "source": [
    "x_test0 = CIFAR_train[8000:9747] \n",
    "y_test0 = np.zeros(1747)\n",
    "x_test1 = np.array([imageio.imread(\"./img/meme\" + str(j) + \".png\") for j in range(8000, 9747)])\n",
    "y_test1 = np.ones(1747)\n",
    "x_test = np.concate(x_test0, x_test1)\n",
    "y_test = np.concate(y_test0, y_test1)\n",
    "score = model.evaluate(x_test, y_test)\n",
    "print(f'測試資料的 loss: {score[0]:.5f}')\n",
    "print(f'測試資料的正確率: {score[1]}')"
   ]
  }
 ],
 "metadata": {
  "kernelspec": {
   "display_name": "Python 3",
   "language": "python",
   "name": "python3"
  },
  "language_info": {
   "codemirror_mode": {
    "name": "ipython",
    "version": 3
   },
   "file_extension": ".py",
   "mimetype": "text/x-python",
   "name": "python",
   "nbconvert_exporter": "python",
   "pygments_lexer": "ipython3",
   "version": "3.7.3"
  }
 },
 "nbformat": 4,
 "nbformat_minor": 2
}
