{
 "cells": [
  {
   "cell_type": "code",
   "execution_count": 1,
   "metadata": {},
   "outputs": [
    {
     "name": "stdout",
     "output_type": "stream",
     "text": [
      "env: KERAS_BACKEND=tensorflow\n"
     ]
    },
    {
     "name": "stderr",
     "output_type": "stream",
     "text": [
      "Using TensorFlow backend.\n"
     ]
    }
   ],
   "source": [
    "%matplotlib inline\n",
    "%env KERAS_BACKEND=tensorflow\n",
    "import numpy as np\n",
    "from keras.models import Sequential\n",
    "from keras.layers import Conv2D, Activation, MaxPooling2D, Dense\n",
    "from keras.datasets import cifar100\n",
    "from keras.utils import np_utils\n",
    "from keras.preprocessing import image\n",
    "from spp.SpatialPyramidPooling import SpatialPyramidPooling    # 需引入相關檔案 https://github.com/yhenon/keras-spp\n",
    "import matplotlib.pyplot as plt\n",
    "import numpy as np\n",
    "import pandas as pd\n",
    "import requests\n",
    "import os \n",
    "from PIL import Image\n",
    "from io import BytesIO\n",
    "from IPython.display import clear_output\n",
    "\n",
    "\n",
    "def clear():\n",
    "    os.system( 'cls' )"
   ]
  },
  {
   "cell_type": "markdown",
   "metadata": {},
   "source": [
    "### 引入CIFAR約10000張圖片作為非meme的圖片"
   ]
  },
  {
   "cell_type": "code",
   "execution_count": 2,
   "metadata": {
    "scrolled": true
   },
   "outputs": [],
   "source": [
    "(CIFAR_train, dum1), (dum2, dum3) = cifar100.load_data(label_mode='fine')    # 引入CIFAR，實際上只需要圖片的部分"
   ]
  },
  {
   "cell_type": "code",
   "execution_count": 4,
   "metadata": {},
   "outputs": [],
   "source": [
    "# 需要將圖檔放大為128*128以利訓練\n",
    "imgs = []\n",
    "sele_img = CIFAR_train[:8000]    # 只需要八千筆就好\n",
    "for k in range(8000):\n",
    "    pre_img = sele_img[k]/255\n",
    "    span_img = np.zeros((128,128, 3))\n",
    "    for u in range(32):\n",
    "        for v in range(32):\n",
    "            for i in range(4):\n",
    "                for j in range(4):\n",
    "                    span_img[4*u+i][4*v+j] = pre_img[u, v, :3]    # 將圖片放大成128*128\n",
    "    span_img = np.expand_dims(span_img, axis=0)    # 增加第一個batch維度\n",
    "    imgs.append(span_img)    # 把圖片數組加到一個列表裡面   "
   ]
  },
  {
   "cell_type": "markdown",
   "metadata": {},
   "source": [
    "### 引入meme的database"
   ]
  },
  {
   "cell_type": "code",
   "execution_count": 10,
   "metadata": {},
   "outputs": [],
   "source": [
    "fr = open(\"memeurls.csv\", 'r')\n",
    "for l in fr:\n",
    "    break\n",
    "l = l.split(',')"
   ]
  },
  {
   "cell_type": "code",
   "execution_count": 12,
   "metadata": {},
   "outputs": [
    {
     "name": "stdout",
     "output_type": "stream",
     "text": [
      "no.131 image loaded.\n",
      "no.132 image loaded.\n",
      "no.133 image loaded.\n",
      "no.134 image loaded.\n",
      "no.135 image loaded.\n",
      "no.136 image loaded.\n",
      "no.137 image loaded.\n",
      "no.138 image loaded.\n",
      "no.139 image loaded.\n",
      "A total of 139 image loaded.\n"
     ]
    }
   ],
   "source": [
    "count = 0\n",
    "for url in l:\n",
    "    res = requests.get(url)\n",
    "    img0 = np.array(Image.open(BytesIO(res.content)))    # 將圖片轉為數組\n",
    "    if len(img0.shape) == 2:    # 2維代表是GIF，需要排除\n",
    "        continue\n",
    "    img = img0/255 \n",
    "    mini = min(img.shape[0], img.shape[1])\n",
    "    new_size = mini - mini%128\n",
    "    mult = new_size//128\n",
    "    pre_img = img[0:new_size, 0:new_size]    # 將圖片長寬裁為128的倍數\n",
    "    comp_img = np.zeros((128,128, 3))\n",
    "    for i in range(128):\n",
    "        for j in range(128):\n",
    "            comp_img[i][j] = np.mean(pre_img[i*mult:(i+1)*mult, j*mult:(j+1)*mult, :3], axis=(0,1))    # 將圖片壓縮成128*128\n",
    "    comp_img = np.expand_dims(comp_img, axis=0)    # 增加第一個batch維度\n",
    "    imgs.append(comp_img)    # 把圖片數組加到一個列表裡面\n",
    "    if count%10 == 0:\n",
    "        clear_output(wait=True)\n",
    "    count = count + 1\n",
    "    print(\"no.%s image loaded.\"%count)\n",
    "    \n",
    "total = count    # 追蹤有多少有效資料(GIF數量約一成)\n",
    "print(\"A total of %s image loaded.\"%total)"
   ]
  },
  {
   "cell_type": "markdown",
   "metadata": {},
   "source": [
    "### 將蒐集完的圖片concatenate在一起並製作標籤"
   ]
  },
  {
   "cell_type": "code",
   "execution_count": 41,
   "metadata": {},
   "outputs": [],
   "source": [
    "x2_train = np.concatenate([x for x in imgs])    # 把所有圖片數組concatenate在一起\n",
    "y2_train = np.zeros((8000+total,2))\n",
    "for i in range(8000):\n",
    "    y2_train[i] = [1, 0]    #前八千筆的label是[1,0]，代表不是meme\n",
    "for i in range(8000,8000+total):\n",
    "    y2_train[i] = [0, 1]    #八千筆後的label是[0,1]，代表是meme\n",
    "x1_train = x2_train\n",
    "y1_train = y2_train    # 初始化x1_train跟y1_train    \n",
    "count = 0\n",
    "indices = range(8000+total)    #8000+total為總資料數量\n",
    "indices = np.array(indices)\n",
    "np.random.shuffle(indices)    #將index打亂\n",
    "for i in indices:\n",
    "    x1_train[count] = x2_train[i]\n",
    "    y1_train[count] = y2_train[i]    #把打亂後的index依序填入新的陣列\n",
    "    count = count + 1\n",
    "x0_train = x1_train[:7000+total]\n",
    "y0_train = y1_train[:7000+total]\n",
    "x0_test = x1_train[7000+total:]\n",
    "y0_test = y1_train[7000+total:]    #切出後面1000筆作為test set"
   ]
  },
  {
   "cell_type": "code",
   "execution_count": null,
   "metadata": {},
   "outputs": [],
   "source": [
    "#x0_train.shape\n",
    "#y0_train.shape\n",
    "#x0_test.shape\n",
    "#y0_test.shape"
   ]
  },
  {
   "cell_type": "markdown",
   "metadata": {},
   "source": [
    "### 資料處理完畢，開始架設神經網路"
   ]
  },
  {
   "cell_type": "code",
   "execution_count": 23,
   "metadata": {
    "scrolled": true
   },
   "outputs": [
    {
     "name": "stdout",
     "output_type": "stream",
     "text": [
      "WARNING:tensorflow:From C:\\Users\\X555LN\\Anaconda3\\lib\\site-packages\\tensorflow\\python\\framework\\op_def_library.py:263: colocate_with (from tensorflow.python.framework.ops) is deprecated and will be removed in a future version.\n",
      "Instructions for updating:\n",
      "Colocations handled automatically by placer.\n"
     ]
    }
   ],
   "source": [
    "\n",
    "num_channels = 3\n",
    "num_classes = 2\n",
    "\n",
    "model = Sequential()\n",
    "model.add(Conv2D(2, (9,9), padding='same', input_shape=(None, None, 3)))   #圖片大小不固定所以用NONE\n",
    "model.add(Activation('relu'))\n",
    "model.add(MaxPooling2D(pool_size=(2, 2)))   #第一層\n",
    "model.add(Conv2D(4, (8,8), padding='same'))\n",
    "model.add(Activation('relu'))\n",
    "model.add(MaxPooling2D(pool_size=(2, 2)))   #第二層\n",
    "model.add(Conv2D(8, (7,7), padding='same'))\n",
    "model.add(Activation('relu'))\n",
    "#model.add(MaxPooling2D(pool_size=(2, 2)))   #第三層(怕最後矩陣變太小這裡先不做pooling)\n",
    "model.add(Conv2D(16, (6,6), padding='same'))\n",
    "model.add(Activation('relu'))\n",
    "model.add(MaxPooling2D(pool_size=(2, 2)))   #第四層\n",
    "model.add(Conv2D(32, (5,5), padding='same'))\n",
    "model.add(Activation('relu'))\n",
    "#這裡運用SPP讓結果的大小是固定的\n",
    "model.add(SpatialPyramidPooling([1, 2, 4])) #會輸出(1+4+16)=21的大小\n",
    "model.add(Dense(num_classes))   #搭配上行是一個21*2的FC layer\n",
    "model.add(Activation('softmax'))\n",
    "\n",
    "model.compile(loss='categorical_crossentropy', optimizer='sgd', metrics=['accuracy'])    #learning rate不敢亂動QQ\n"
   ]
  },
  {
   "cell_type": "code",
   "execution_count": 25,
   "metadata": {
    "scrolled": true
   },
   "outputs": [
    {
     "name": "stdout",
     "output_type": "stream",
     "text": [
      "WARNING:tensorflow:From C:\\Users\\X555LN\\Anaconda3\\lib\\site-packages\\tensorflow\\python\\ops\\math_ops.py:3066: to_int32 (from tensorflow.python.ops.math_ops) is deprecated and will be removed in a future version.\n",
      "Instructions for updating:\n",
      "Use tf.cast instead.\n",
      "WARNING:tensorflow:From C:\\Users\\X555LN\\Anaconda3\\lib\\site-packages\\tensorflow\\python\\ops\\math_grad.py:102: div (from tensorflow.python.ops.math_ops) is deprecated and will be removed in a future version.\n",
      "Instructions for updating:\n",
      "Deprecated in favor of operator or tf.math.divide.\n",
      "Epoch 1/10\n",
      "200/200 [==============================] - 10s 51ms/step - loss: 0.5375 - acc: 0.7500\n",
      "Epoch 2/10\n",
      "200/200 [==============================] - 7s 35ms/step - loss: 0.5186 - acc: 0.7500\n",
      "Epoch 3/10\n",
      "200/200 [==============================] - 7s 35ms/step - loss: 0.5125 - acc: 0.7500\n",
      "Epoch 4/10\n",
      "200/200 [==============================] - 7s 35ms/step - loss: 0.5253 - acc: 0.7500\n",
      "Epoch 5/10\n",
      "200/200 [==============================] - 7s 35ms/step - loss: 0.4982 - acc: 0.7500\n",
      "Epoch 6/10\n",
      "200/200 [==============================] - 7s 35ms/step - loss: 0.4816 - acc: 0.7500\n",
      "Epoch 7/10\n",
      "200/200 [==============================] - 7s 35ms/step - loss: 0.4806 - acc: 0.7500\n",
      "Epoch 8/10\n",
      "200/200 [==============================] - 7s 35ms/step - loss: 0.4579 - acc: 0.7500\n",
      "Epoch 9/10\n",
      "200/200 [==============================] - 7s 37ms/step - loss: 0.4774 - acc: 0.7500\n",
      "Epoch 10/10\n",
      "200/200 [==============================] - 8s 39ms/step - loss: 0.4333 - acc: 0.7500\n"
     ]
    },
    {
     "data": {
      "text/plain": [
       "<keras.callbacks.History at 0xa08a57f588>"
      ]
     },
     "execution_count": 25,
     "metadata": {},
     "output_type": "execute_result"
    }
   ],
   "source": [
    "x_train = x0_train\n",
    "y_train = y0_train\n",
    "model.fit(x_train, y_train, batch_size=500, epochs=15)    #batch_size跟epochs可以再調整"
   ]
  },
  {
   "cell_type": "code",
   "execution_count": 26,
   "metadata": {},
   "outputs": [],
   "source": [
    "#把得來不易的model存下來\n",
    "model.save('memerecog_model.h5')"
   ]
  },
  {
   "cell_type": "code",
   "execution_count": 43,
   "metadata": {},
   "outputs": [
    {
     "name": "stdout",
     "output_type": "stream",
     "text": [
      "39/39 [==============================] - 1s 26ms/step\n",
      "測試資料的 loss: 0.36642\n",
      "測試資料的正確率: 0.8205128205128205\n"
     ]
    }
   ],
   "source": [
    "x_test = x0_test\n",
    "y_test = y0_test\n",
    "score = model.evaluate(x_test, y_test)\n",
    "print(f'測試資料的 loss: {score[0]:.5f}')\n",
    "print(f'測試資料的正確率: {score[1]}')"
   ]
  }
 ],
 "metadata": {
  "kernelspec": {
   "display_name": "Python 3",
   "language": "python",
   "name": "python3"
  },
  "language_info": {
   "codemirror_mode": {
    "name": "ipython",
    "version": 3
   },
   "file_extension": ".py",
   "mimetype": "text/x-python",
   "name": "python",
   "nbconvert_exporter": "python",
   "pygments_lexer": "ipython3",
   "version": "3.7.1"
  }
 },
 "nbformat": 4,
 "nbformat_minor": 2
}
